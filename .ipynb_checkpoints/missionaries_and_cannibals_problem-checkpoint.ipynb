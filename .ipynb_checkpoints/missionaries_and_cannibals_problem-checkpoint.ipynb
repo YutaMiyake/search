{
 "cells": [
  {
   "cell_type": "code",
   "execution_count": 474,
   "metadata": {
    "collapsed": false
   },
   "outputs": [],
   "source": [
    "import numpy as np\n",
    "from graphviz import Digraph"
   ]
  },
  {
   "cell_type": "code",
   "execution_count": 475,
   "metadata": {
    "collapsed": false
   },
   "outputs": [],
   "source": [
    "stateL = np.array([3,3,1]) # initial state: missionaries, cannibals, boat\n",
    "states = []                # [state,actions_taken,node_id,parent_node]\n",
    "states_past = {}           # <hash,[state,actions_taken]>\n",
    "\n",
    "actions = np.array([[-1,-1,-1],[0,-2,-1],[-2,0,-1],[-1,0,-1],[0,-1,-1],\n",
    "                    [1,1,1],[0,2,1],[2,0,1],[1,0,1],[0,1,1]])\n",
    "\n",
    "def hash(state):\n",
    "    key = ', '.join(str(x) for x in state)\n",
    "    return key\n",
    "\n",
    "states_past[hash(stateL)] = [stateL,[],'0',None]\n",
    "states = [[stateL,[],'0',None]]"
   ]
  },
  {
   "cell_type": "code",
   "execution_count": 476,
   "metadata": {
    "collapsed": false
   },
   "outputs": [],
   "source": [
    "class node_manager:\n",
    "    def __init__(self):\n",
    "        self.nodeID = 0\n",
    "    def getUID(self):\n",
    "        result = self.nodeID\n",
    "        self.nodeID += 1\n",
    "        return str(result)\n",
    "\n",
    "nm = node_manager()\n",
    "dot = Digraph(comment='The State Tree')\n",
    "dot.node(nm.getUID(), hash(stateL),color='red',style='filled')"
   ]
  },
  {
   "cell_type": "code",
   "execution_count": 477,
   "metadata": {
    "collapsed": false
   },
   "outputs": [
    {
     "name": "stdout",
     "output_type": "stream",
     "text": [
      "Success!!\n",
      "\n",
      "[3 3 1]\n",
      "[2 2 0] <- [-1 -1 -1]\n",
      "[3 2 1] <- [1 0 1]\n",
      "[3 0 0] <- [ 0 -2 -1]\n",
      "[3 1 1] <- [0 1 1]\n",
      "[1 1 0] <- [-2  0 -1]\n",
      "[2 2 1] <- [1 1 1]\n",
      "[0 2 0] <- [-2  0 -1]\n",
      "[0 3 1] <- [0 1 1]\n",
      "[0 1 0] <- [ 0 -2 -1]\n",
      "[1 1 1] <- [1 0 1]\n",
      "[0 0 0] <- [-1 -1 -1]\n"
     ]
    }
   ],
   "source": [
    "def isSolved(state):\n",
    "    return np.array_equal(state[0],np.array([0,0,0]))\n",
    "        \n",
    "def printSol(state):\n",
    "    print \"Success!!\"\n",
    "    print\n",
    "    step = np.array([3,3,1])\n",
    "    print step\n",
    "    for action in state[1]:\n",
    "        print \"%s <- %s\" %(step + action,action)\n",
    "        step += action\n",
    "\n",
    "    pnode = state[3]\n",
    "    node = state\n",
    "    dot.node(state[2],color='red',style='filled')\n",
    "    # no way to add color to the 'existing edges'?\n",
    "    #while pnode != None:\n",
    "    #    dot.edge(pnode[2],node[2],color='red',style='filled',label=hash(action),fontcolor='red')\n",
    "    #    node = pnode\n",
    "    #    pnode = pnode[3]\n",
    "        \n",
    "# Breadth-first search (BFS)\n",
    "endLoop = False\n",
    "while states != [] and not endLoop:\n",
    "    state = states.pop(0)\n",
    "    for action in actions:\n",
    "        result = [[],[],nm.getUID(),state]\n",
    "        result[0] = state[0] + action\n",
    "        result[1] = state[1][:] # copy array\n",
    "        result[1].append(action)\n",
    "        \n",
    "        dot.node(result[2],hash(result[0]))\n",
    "        dot.node(result[2],color='cyan',style='filled')\n",
    "        dot.edge(state[2],result[2],label=hash(action));\n",
    "        \n",
    "        # if bounds checking\n",
    "        if((result[0][0] >= 0 and result[0][0] <= 3) and\n",
    "           (result[0][1] >= 0 and result[0][1] <= 3) and\n",
    "           (result[0][2] >= 0 and result[0][2] <= 1)):\n",
    "            \n",
    "            # if missionaries >= cannibals on left side\n",
    "            if(result[0][0] > 0 and result[0][1] > 0):\n",
    "                if(result[0][0] < result[0][1]):\n",
    "                    continue\n",
    "            \n",
    "            # if missionaries >= cannibals on right side\n",
    "            if(3-result[0][0] > 0 and 3-result[0][1] > 0):\n",
    "                if(3-result[0][0] < 3-result[0][1]):\n",
    "                    continue\n",
    "                    \n",
    "            dot.node(result[2],color='green',style='filled')\n",
    "            \n",
    "            hval = hash(result[0])\n",
    "            if(states_past.get(hval) == None):\n",
    "                states_past[hval] = result\n",
    "                states.append(result)\n",
    "                dot.node(result[2],color='yellow',style='filled')\n",
    "                \n",
    "                if isSolved(result):\n",
    "                    printSol(result)\n",
    "                    endLoop = True\n",
    "                    break"
   ]
  },
  {
   "cell_type": "code",
   "execution_count": 478,
   "metadata": {
    "collapsed": false
   },
   "outputs": [
    {
     "data": {
      "text/plain": [
       "'graph_out/state_tree.pdf'"
      ]
     },
     "execution_count": 478,
     "metadata": {},
     "output_type": "execute_result"
    }
   ],
   "source": [
    "dot.render('graph_out/state_tree', view=True)"
   ]
  },
  {
   "cell_type": "code",
   "execution_count": 479,
   "metadata": {
    "collapsed": false
   },
   "outputs": [],
   "source": [
    "# Depth-first search (DFS)\n",
    "def DFS(state,dot,states_past):\n",
    "    if np.array_equal(state[0],np.array([0,0,0])):\n",
    "        print \"Success!!\"\n",
    "        print\n",
    "        step = np.array([3,3,1])\n",
    "        print step\n",
    "        for action in state[1]:\n",
    "            print \"%s <- %s\" %(step + action,action)\n",
    "            step += action\n",
    "            \n",
    "        dot.node(state[2],color='red',style='filled')\n",
    "        return True\n",
    "    \n",
    "    for action in actions:\n",
    "        result = [[],[],nm.getUID(),state]\n",
    "        result[0] = state[0] + action\n",
    "        result[1] = state[1][:] # copy array\n",
    "        result[1].append(action)\n",
    "        \n",
    "        dot.node(result[2],hash(result[0]))\n",
    "        dot.node(result[2],color='cyan',style='filled')\n",
    "        dot.edge(state[2],result[2],label=hash(action));\n",
    "        \n",
    "        # if bounds checking\n",
    "        if((result[0][0] >= 0 and result[0][0] <= 3) and\n",
    "           (result[0][1] >= 0 and result[0][1] <= 3) and\n",
    "           (result[0][2] >= 0 and result[0][2] <= 1)):\n",
    "            \n",
    "            # if missionaries >= cannibals on left side\n",
    "            if(result[0][0] > 0 and result[0][1] > 0):\n",
    "                if(result[0][0] < result[0][1]):\n",
    "                    continue\n",
    "            \n",
    "            # if missionaries >= cannibals on right side\n",
    "            if(3-result[0][0] > 0 and 3-result[0][1] > 0):\n",
    "                if(3-result[0][0] < 3-result[0][1]):\n",
    "                    continue\n",
    "                    \n",
    "            dot.node(result[2],color='green',style='filled')\n",
    "            \n",
    "            hval = hash(result[0])\n",
    "            if(states_past.get(hval) == None):\n",
    "                states_past[hval] = result\n",
    "                dot.node(result[2],color='yellow',style='filled')\n",
    "                if DFS(result,dot,states_past):\n",
    "                    return True\n",
    "                \n",
    "    # every subtree cannot reach to the goal\n",
    "    return False"
   ]
  },
  {
   "cell_type": "code",
   "execution_count": 480,
   "metadata": {
    "collapsed": false
   },
   "outputs": [
    {
     "name": "stdout",
     "output_type": "stream",
     "text": [
      "Success!!\n",
      "\n",
      "[3 3 1]\n",
      "[2 2 0] <- [-1 -1 -1]\n",
      "[3 2 1] <- [1 0 1]\n",
      "[3 0 0] <- [ 0 -2 -1]\n",
      "[3 1 1] <- [0 1 1]\n",
      "[1 1 0] <- [-2  0 -1]\n",
      "[2 2 1] <- [1 1 1]\n",
      "[0 2 0] <- [-2  0 -1]\n",
      "[0 3 1] <- [0 1 1]\n",
      "[0 1 0] <- [ 0 -2 -1]\n",
      "[1 1 1] <- [1 0 1]\n",
      "[0 0 0] <- [-1 -1 -1]\n"
     ]
    },
    {
     "data": {
      "text/plain": [
       "True"
      ]
     },
     "execution_count": 480,
     "metadata": {},
     "output_type": "execute_result"
    }
   ],
   "source": [
    "# init\n",
    "stateL = np.array([3,3,1])             \n",
    "states_past = {}        \n",
    "states_past[hash(stateL)] = [stateL,[],'0',None]\n",
    "dot2 = Digraph(comment='The State Tree')\n",
    "nm = node_manager()\n",
    "dot2.node(nm.getUID(), hash(stateL),color='red',style='filled')\n",
    "DFS([stateL,[],'0',None],dot2,states_past)"
   ]
  },
  {
   "cell_type": "code",
   "execution_count": 481,
   "metadata": {
    "collapsed": false
   },
   "outputs": [
    {
     "data": {
      "text/plain": [
       "'graph_out/state_tree2.pdf'"
      ]
     },
     "execution_count": 481,
     "metadata": {},
     "output_type": "execute_result"
    }
   ],
   "source": [
    "dot2.render('graph_out/state_tree2', view=True)"
   ]
  },
  {
   "cell_type": "code",
   "execution_count": null,
   "metadata": {
    "collapsed": true
   },
   "outputs": [],
   "source": []
  }
 ],
 "metadata": {
  "kernelspec": {
   "display_name": "Python 2",
   "language": "python",
   "name": "python2"
  },
  "language_info": {
   "codemirror_mode": {
    "name": "ipython",
    "version": 2
   },
   "file_extension": ".py",
   "mimetype": "text/x-python",
   "name": "python",
   "nbconvert_exporter": "python",
   "pygments_lexer": "ipython2",
   "version": "2.7.5"
  }
 },
 "nbformat": 4,
 "nbformat_minor": 0
}
